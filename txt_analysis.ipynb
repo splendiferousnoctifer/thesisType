{
  "nbformat": 4,
  "nbformat_minor": 0,
  "metadata": {
    "colab": {
      "name": "txt_analysis.ipynb",
      "provenance": [],
      "collapsed_sections": []
    },
    "kernelspec": {
      "name": "python3",
      "display_name": "Python 3"
    }
  },
  "cells": [
    {
      "cell_type": "code",
      "metadata": {
        "id": "m6xdkAlel3mW"
      },
      "source": [
        "from pathlib import Path\r\n",
        "from collections import Counter\r\n",
        "import re\r\n",
        "\r\n",
        "regex = re.compile('[^a-zA-Z]')\r\n",
        "txt = Path('/content/drive/MyDrive/Hagenberg/thesis/chat_haufen.txt').read_text()"
      ],
      "execution_count": 94,
      "outputs": []
    },
    {
      "cell_type": "code",
      "metadata": {
        "id": "7mqNJZWenL-u"
      },
      "source": [
        "remove = ['Anni🌟💙', 'Hanni🌟💕','Sam🧚🏻‍♂🤴🏻',' Jojo🌟🧡','Flo🌟💚','Aleny🌟💛','Kathi🌟🖤']\r\n",
        "for x in remove:\r\n",
        "  txt = txt.replace(x,'')\r\n",
        "\r\n",
        "txtAlphabet = regex.sub('', txt)\r\n",
        "txtLower = txtAlphabet.lower()"
      ],
      "execution_count": 95,
      "outputs": []
    },
    {
      "cell_type": "code",
      "metadata": {
        "id": "IId2NomkN4R1"
      },
      "source": [
        "\r\n",
        "txtCount=Counter(txtLower)\r\n",
        "txtFrequency = txtCount.most_common()\r\n"
      ],
      "execution_count": 96,
      "outputs": []
    },
    {
      "cell_type": "code",
      "metadata": {
        "colab": {
          "base_uri": "https://localhost:8080/"
        },
        "id": "-mVM1Y9BZjtg",
        "outputId": "4fe5e66d-89a4-4b84-94f5-46fe615000f8"
      },
      "source": [
        "txtPercentages = [[]]\r\n",
        "number = []\r\n",
        "amountLetters = 0\r\n",
        "\r\n",
        "\r\n",
        "for i in range(0, 26):\r\n",
        "  amountLetters+= txtFrequency[i][1]\r\n",
        "  number.append(txtFrequency[i][1])\r\n",
        "\r\n",
        "percentage = []\r\n",
        "for i in range(0, 26):\r\n",
        "  percentage.append(str(round(number[i] / amountLetters * 100, 1)) + ' %')\r\n",
        "\r\n",
        "for i in range(0, 26):\r\n",
        "  print(str(i+1) + '. \\t' + str(txtFrequency[i][0]) + '\\twith ' + str(percentage[i]) + '\\t- (' + str(number[i]) + ') in total')\r\n",
        "\r\n",
        "print('sum\\t\\t100% \\t\\t- (' + str(amountLetters) + ')')\r\n",
        "\r\n",
        "\r\n"
      ],
      "execution_count": 155,
      "outputs": [
        {
          "output_type": "stream",
          "text": [
            "1. \te\twith 13.2 %\t- (90182) in total\n",
            "2. \tn\twith 9.0 %\t- (61247) in total\n",
            "3. \ti\twith 8.6 %\t- (58393) in total\n",
            "4. \ta\twith 8.5 %\t- (58223) in total\n",
            "5. \ts\twith 7.0 %\t- (47673) in total\n",
            "6. \tt\twith 6.3 %\t- (42673) in total\n",
            "7. \tr\twith 5.8 %\t- (39216) in total\n",
            "8. \td\twith 5.3 %\t- (36167) in total\n",
            "9. \th\twith 5.1 %\t- (34455) in total\n",
            "10. \tm\twith 4.3 %\t- (29579) in total\n",
            "11. \to\twith 3.7 %\t- (25272) in total\n",
            "12. \tu\twith 3.5 %\t- (24033) in total\n",
            "13. \tl\twith 3.4 %\t- (23034) in total\n",
            "14. \tc\twith 2.9 %\t- (19949) in total\n",
            "15. \tg\twith 2.8 %\t- (18869) in total\n",
            "16. \tb\twith 2.2 %\t- (14910) in total\n",
            "17. \tw\twith 2.0 %\t- (13645) in total\n",
            "18. \tk\twith 1.5 %\t- (9969) in total\n",
            "19. \tf\twith 1.5 %\t- (9945) in total\n",
            "20. \tz\twith 1.0 %\t- (6965) in total\n",
            "21. \tp\twith 0.9 %\t- (5998) in total\n",
            "22. \tv\twith 0.7 %\t- (4868) in total\n",
            "23. \tj\twith 0.6 %\t- (3939) in total\n",
            "24. \ty\twith 0.2 %\t- (1297) in total\n",
            "25. \tx\twith 0.1 %\t- (565) in total\n",
            "26. \tq\twith 0.0 %\t- (142) in total\n",
            "sum\t\t100% \t\t- (681208)\n"
          ],
          "name": "stdout"
        }
      ]
    }
  ]
}